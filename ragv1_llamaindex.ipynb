{
 "cells": [
  {
   "cell_type": "code",
   "execution_count": 30,
   "metadata": {},
   "outputs": [],
   "source": [
    "import pandas as pd\n",
    "from datetime import datetime\n",
    "\n",
    "from IPython.display import display\n",
    "from IPython.display import Markdown\n",
    "\n",
    "from src.utils import read_config, OracleAgent\n",
    "\n",
    "from llama_index.core import VectorStoreIndex, StorageContext, Settings\n",
    "from llama_index.vector_stores.chroma import ChromaVectorStore\n",
    "from llama_index.embeddings.huggingface import HuggingFaceEmbedding\n",
    "from llama_index.core.schema import Document\n",
    "\n",
    "import chromadb"
   ]
  },
  {
   "cell_type": "code",
   "execution_count": 31,
   "metadata": {},
   "outputs": [],
   "source": [
    "info_path = '.env/info.json'\n",
    "info = read_config(info_path)"
   ]
  },
  {
   "cell_type": "code",
   "execution_count": 14,
   "metadata": {},
   "outputs": [],
   "source": [
    "oracle_agent = OracleAgent(info['DW_conn_info'])"
   ]
  },
  {
   "cell_type": "code",
   "execution_count": 22,
   "metadata": {},
   "outputs": [],
   "source": [
    "query = \"\"\"\n",
    "select dashboard_name, report_name, page_name, pic_name, llm As description\n",
    "from bi_dashboard\n",
    "\"\"\"\n",
    "df_dashboard = oracle_agent.read_table(query)"
   ]
  },
  {
   "cell_type": "code",
   "execution_count": 23,
   "metadata": {},
   "outputs": [
    {
     "data": {
      "text/html": [
       "<div>\n",
       "<style scoped>\n",
       "    .dataframe tbody tr th:only-of-type {\n",
       "        vertical-align: middle;\n",
       "    }\n",
       "\n",
       "    .dataframe tbody tr th {\n",
       "        vertical-align: top;\n",
       "    }\n",
       "\n",
       "    .dataframe thead th {\n",
       "        text-align: right;\n",
       "    }\n",
       "</style>\n",
       "<table border=\"1\" class=\"dataframe\">\n",
       "  <thead>\n",
       "    <tr style=\"text-align: right;\">\n",
       "      <th></th>\n",
       "      <th>dashboard_name</th>\n",
       "      <th>report_name</th>\n",
       "      <th>page_name</th>\n",
       "      <th>pic_name</th>\n",
       "      <th>description</th>\n",
       "    </tr>\n",
       "  </thead>\n",
       "  <tbody>\n",
       "    <tr>\n",
       "      <th>0</th>\n",
       "      <td>投控經營分析</td>\n",
       "      <td>華紙-營運績效分析月報</td>\n",
       "      <td>紙機生產狀況</td>\n",
       "      <td>紙機生產狀況-得率趨勢圖.jpg</td>\n",
       "      <td>這張圖表顯示的是 2024 年 1 月到 5 月的月度效率數據。圖表上的數字代表各個月的效率...</td>\n",
       "    </tr>\n",
       "    <tr>\n",
       "      <th>1</th>\n",
       "      <td>投控經營分析</td>\n",
       "      <td>華紙-營運績效分析月報</td>\n",
       "      <td>號機直接法損益</td>\n",
       "      <td>號機直接法損益-完整畫面.jpg</td>\n",
       "      <td>這張圖片包含了一份營運績效分析月報，其中包含以下指標：\\n\\n**成本**:\\n* 銷貨成本...</td>\n",
       "    </tr>\n",
       "  </tbody>\n",
       "</table>\n",
       "</div>"
      ],
      "text/plain": [
       "  dashboard_name  report_name page_name          pic_name  \\\n",
       "0         投控經營分析  華紙-營運績效分析月報    紙機生產狀況  紙機生產狀況-得率趨勢圖.jpg   \n",
       "1         投控經營分析  華紙-營運績效分析月報   號機直接法損益  號機直接法損益-完整畫面.jpg   \n",
       "\n",
       "                                         description  \n",
       "0  這張圖表顯示的是 2024 年 1 月到 5 月的月度效率數據。圖表上的數字代表各個月的效率...  \n",
       "1  這張圖片包含了一份營運績效分析月報，其中包含以下指標：\\n\\n**成本**:\\n* 銷貨成本...  "
      ]
     },
     "execution_count": 23,
     "metadata": {},
     "output_type": "execute_result"
    }
   ],
   "source": [
    "df_dashboard.head(2)"
   ]
  },
  {
   "cell_type": "code",
   "execution_count": 17,
   "metadata": {},
   "outputs": [
    {
     "data": {
      "text/markdown": [
       "這張圖表顯示了生產製造成本的組成，可以帮助你了解不同項目在生產成本中所占的比例。\n",
       "\n",
       "**主要分析指標：**\n",
       "\n",
       "* **生產製造成本的總金額：** 顯示了總的生產製造成本。\n",
       "* **各項成本的金額：** 顯示了不同項目在生產成本中的具體金額。\n",
       "* **各項成本的百分比：** 顯示了不同項目在生產成本中所占的比例。 \n",
       "* **累積百分比：** 顯示了累積的成本比例，可以帮助你快速了解不同項目的成本佔比。\n",
       "\n",
       "**可以查詢的指標：**\n",
       "\n",
       "* **各項成本的金額和百分比：** 您可以查看不同項目的成本金額和百分比，例如：\n",
       "    * **原料：** 顯示了原材料的成本。\n",
       "    * **電力：** 顯示了電力的成本。\n",
       "    * **製造成本：** 顯示了生產過程中的成本。\n",
       "    * **人工：** 顯示了人工成本。\n",
       "    * **其他：** 顯示了其他成本。\n",
       "* **累積百分比：** 您可以查看累積百分比，例如：\n",
       "    * **原料的累積百分比：** 顯示了原材料成本佔總成本的比例。\n",
       "    * **原料和電力的累積百分比：** 顯示了原材料和電力成本佔總成本的比例。\n",
       "    * **所有成本的累積百分比：** 顯示了所有成本佔總成本的比例，應該為 100%。\n",
       "\n",
       "**用途：**\n",
       "\n",
       "這張圖表可以帮助您：\n",
       "\n",
       "* 了解生產製造成本的組成。\n",
       "* 分析不同項目的成本佔比。\n",
       "* 找出成本的主要來源。\n",
       "* 評估成本控制的成效。\n",
       "\n",
       "**注意事項：**\n",
       "\n",
       "* 圖表中顯示的數據是特定時間點的數據，可能不代表長期趨勢。\n",
       "* 圖表中沒有提供成本變化的趨勢信息。\n",
       "* 圖表中沒有提供成本控制措施的信息。\n"
      ],
      "text/plain": [
       "<IPython.core.display.Markdown object>"
      ]
     },
     "execution_count": 17,
     "metadata": {},
     "output_type": "execute_result"
    }
   ],
   "source": [
    "Markdown(df_dashboard[df_dashboard['rowid'] == 'AAi0soABZAAAACUAAH'].description.values[0])"
   ]
  },
  {
   "cell_type": "code",
   "execution_count": 18,
   "metadata": {},
   "outputs": [],
   "source": [
    "model_name = \"sentence-transformers/distiluse-base-multilingual-cased-v1\"\n",
    "embeddings = HuggingFaceEmbedding(model_name=model_name)"
   ]
  },
  {
   "cell_type": "code",
   "execution_count": 19,
   "metadata": {},
   "outputs": [],
   "source": [
    "chroma_client = chromadb.PersistentClient(path=\"./chroma_db\")\n",
    "chroma_collection = chroma_client.get_or_create_collection(\"DashboardQA\")"
   ]
  },
  {
   "cell_type": "code",
   "execution_count": 24,
   "metadata": {},
   "outputs": [],
   "source": [
    "# list comprehension\n",
    "def df_to_documents(df):\n",
    "    return [Document(text=row['description'], metadata={col: row[col] for col in df.columns if col != 'descriptoin'}) for _, row in df.iterrows()]"
   ]
  },
  {
   "cell_type": "code",
   "execution_count": 27,
   "metadata": {},
   "outputs": [
    {
     "data": {
      "text/html": [
       "<div>\n",
       "<style scoped>\n",
       "    .dataframe tbody tr th:only-of-type {\n",
       "        vertical-align: middle;\n",
       "    }\n",
       "\n",
       "    .dataframe tbody tr th {\n",
       "        vertical-align: top;\n",
       "    }\n",
       "\n",
       "    .dataframe thead th {\n",
       "        text-align: right;\n",
       "    }\n",
       "</style>\n",
       "<table border=\"1\" class=\"dataframe\">\n",
       "  <thead>\n",
       "    <tr style=\"text-align: right;\">\n",
       "      <th></th>\n",
       "      <th>dashboard_name</th>\n",
       "      <th>report_name</th>\n",
       "      <th>page_name</th>\n",
       "      <th>pic_name</th>\n",
       "      <th>description</th>\n",
       "    </tr>\n",
       "  </thead>\n",
       "  <tbody>\n",
       "    <tr>\n",
       "      <th>0</th>\n",
       "      <td>投控經營分析</td>\n",
       "      <td>華紙-營運績效分析月報</td>\n",
       "      <td>紙機生產狀況</td>\n",
       "      <td>紙機生產狀況-得率趨勢圖.jpg</td>\n",
       "      <td>這張圖表顯示的是 2024 年 1 月到 5 月的月度效率數據。圖表上的數字代表各個月的效率...</td>\n",
       "    </tr>\n",
       "    <tr>\n",
       "      <th>1</th>\n",
       "      <td>投控經營分析</td>\n",
       "      <td>華紙-營運績效分析月報</td>\n",
       "      <td>號機直接法損益</td>\n",
       "      <td>號機直接法損益-完整畫面.jpg</td>\n",
       "      <td>這張圖片包含了一份營運績效分析月報，其中包含以下指標：\\n\\n**成本**:\\n* 銷貨成本...</td>\n",
       "    </tr>\n",
       "  </tbody>\n",
       "</table>\n",
       "</div>"
      ],
      "text/plain": [
       "  dashboard_name  report_name page_name          pic_name  \\\n",
       "0         投控經營分析  華紙-營運績效分析月報    紙機生產狀況  紙機生產狀況-得率趨勢圖.jpg   \n",
       "1         投控經營分析  華紙-營運績效分析月報   號機直接法損益  號機直接法損益-完整畫面.jpg   \n",
       "\n",
       "                                         description  \n",
       "0  這張圖表顯示的是 2024 年 1 月到 5 月的月度效率數據。圖表上的數字代表各個月的效率...  \n",
       "1  這張圖片包含了一份營運績效分析月報，其中包含以下指標：\\n\\n**成本**:\\n* 銷貨成本...  "
      ]
     },
     "execution_count": 27,
     "metadata": {},
     "output_type": "execute_result"
    }
   ],
   "source": [
    "df_dashboard.head(2)"
   ]
  },
  {
   "cell_type": "code",
   "execution_count": 26,
   "metadata": {},
   "outputs": [],
   "source": [
    "documents = df_to_documents(df_dashboard)"
   ]
  },
  {
   "cell_type": "code",
   "execution_count": 28,
   "metadata": {},
   "outputs": [
    {
     "data": {
      "text/plain": [
       "Document(id_='bc4ce6f6-b7ae-4a79-b856-446cd5e756b6', embedding=None, metadata={'dashboard_name': '投控經營分析', 'report_name': '華紙-營運績效分析月報', 'page_name': '紙機生產狀況', 'pic_name': '紙機生產狀況-得率趨勢圖.jpg', 'description': '這張圖表顯示的是 2024 年 1 月到 5 月的月度效率數據。圖表上的數字代表各個月的效率百分比。 \\n\\n您可以查詢：\\n\\n- **效率**（以百分比顯示）： 圖表顯示了每個月的效率，從 1 月到 5 月。\\n- **月份**： 圖表顯示了每個月的效率，從 1 月到 5 月。\\n- **2024 年**： 圖表顯示了 2024 年的數據。\\n\\n圖表中缺少 6 月份的數據。'}, excluded_embed_metadata_keys=[], excluded_llm_metadata_keys=[], relationships={}, text='這張圖表顯示的是 2024 年 1 月到 5 月的月度效率數據。圖表上的數字代表各個月的效率百分比。 \\n\\n您可以查詢：\\n\\n- **效率**（以百分比顯示）： 圖表顯示了每個月的效率，從 1 月到 5 月。\\n- **月份**： 圖表顯示了每個月的效率，從 1 月到 5 月。\\n- **2024 年**： 圖表顯示了 2024 年的數據。\\n\\n圖表中缺少 6 月份的數據。', mimetype='text/plain', start_char_idx=None, end_char_idx=None, text_template='{metadata_str}\\n\\n{content}', metadata_template='{key}: {value}', metadata_seperator='\\n')"
      ]
     },
     "execution_count": 28,
     "metadata": {},
     "output_type": "execute_result"
    }
   ],
   "source": [
    "documents[0]"
   ]
  },
  {
   "cell_type": "code",
   "execution_count": 32,
   "metadata": {},
   "outputs": [],
   "source": [
    "# store in vectordb\n",
    "Settings.chunk_size = 1024\n",
    "Settings.chunk_overlap = 50\n",
    "vector_store = ChromaVectorStore(chroma_collection=chroma_collection)\n",
    "storage_context = StorageContext.from_defaults(vector_store=vector_store)\n",
    "vector_store_index = VectorStoreIndex.from_documents(\n",
    "    documents=documents,\n",
    "    storage_context=storage_context,\n",
    "    embed_model=embeddings\n",
    ")"
   ]
  },
  {
   "cell_type": "code",
   "execution_count": 34,
   "metadata": {},
   "outputs": [],
   "source": [
    "# load from disk\n",
    "db2 = chromadb.PersistentClient(path=\"./chroma_db\")\n",
    "chroma_collection = db2.get_or_create_collection(\"DashboardQA\")\n",
    "vector_store = ChromaVectorStore(chroma_collection=chroma_collection)\n",
    "index = VectorStoreIndex.from_vector_store(\n",
    "    vector_store,\n",
    "    embed_model=embeddings,\n",
    ")\n"
   ]
  },
  {
   "cell_type": "code",
   "execution_count": 35,
   "metadata": {},
   "outputs": [
    {
     "data": {
      "text/markdown": [
       "Node ID: 0c1a847b-4f32-458a-a268-7db555774763\n",
       "Text: 這張圖片顯示了一份華紙營運績效分析月報，包含了各事業部的相關分析指標。表格中顯示了以下指標：  **本月** - 銷售收入 -\n",
       "銷售成本 - 銷售毛利 - 營業利益 - 稅前淨利  **全年累計** - 銷售收入 - 銷售成本 - 銷售毛利 - 營業利益 - 稅前淨利\n",
       "- 年度預算 - 達成率  表格中的商品類別包含： - 等等(造紙業) - 久違(紙) - 花蓮(紙) - 台紙(紙) - 智慧(紙) -\n",
       "P板(紙) - 昆山紙業(CNY) - 昆林紙業(CNY) - 纖維製品(CNY) - 合紙(紙)\n",
       "您可以根據您的需要，查詢您感興趣的指標。\n",
       "Score:  0.249\n"
      ],
      "text/plain": [
       "<IPython.core.display.Markdown object>"
      ]
     },
     "metadata": {},
     "output_type": "display_data"
    }
   ],
   "source": [
    "# Query Data from the persisted index\n",
    "query_engine = index.as_retriever(similarity_top_k=3)\n",
    "response = query_engine.retrieve(\"\"\"               \n",
    "哪張表格包含\n",
    "淨利、稅前淨利、稅後淨利\n",
    " \"\"\")\n",
    "display(Markdown(f\"{response[0]}\"))"
   ]
  },
  {
   "cell_type": "code",
   "execution_count": 36,
   "metadata": {},
   "outputs": [
    {
     "data": {
      "text/plain": [
       "[NodeWithScore(node=TextNode(id_='0c1a847b-4f32-458a-a268-7db555774763', embedding=None, metadata={'dashboard_name': '投控經營分析', 'report_name': '華紙-營運績效分析月報', 'page_name': '事業部層', 'pic_name': '事業部層-全廠損益.jpg', 'description': '這張圖片顯示了一份華紙營運績效分析月報，包含了各事業部的相關分析指標。表格中顯示了以下指標：\\n\\n**本月**\\n- 銷售收入\\n- 銷售成本\\n- 銷售毛利\\n- 營業利益\\n- 稅前淨利\\n\\n**全年累計**\\n- 銷售收入\\n- 銷售成本\\n- 銷售毛利\\n- 營業利益\\n- 稅前淨利\\n- 年度預算\\n- 達成率\\n\\n表格中的商品類別包含：\\n- 等等(造紙業)\\n- 久違(紙)\\n- 花蓮(紙)\\n- 台紙(紙)\\n- 智慧(紙)\\n- P板(紙)\\n- 昆山紙業(CNY)\\n- 昆林紙業(CNY)\\n- 纖維製品(CNY)\\n- 合紙(紙)\\n\\n您可以根據您的需要，查詢您感興趣的指標。\\n'}, excluded_embed_metadata_keys=[], excluded_llm_metadata_keys=[], relationships={<NodeRelationship.SOURCE: '1'>: RelatedNodeInfo(node_id='bbe880a5-0b74-41e0-b4e8-f4f440272e5f', node_type=<ObjectType.DOCUMENT: '4'>, metadata={'dashboard_name': '投控經營分析', 'report_name': '華紙-營運績效分析月報', 'page_name': '事業部層', 'pic_name': '事業部層-全廠損益.jpg', 'description': '這張圖片顯示了一份華紙營運績效分析月報，包含了各事業部的相關分析指標。表格中顯示了以下指標：\\n\\n**本月**\\n- 銷售收入\\n- 銷售成本\\n- 銷售毛利\\n- 營業利益\\n- 稅前淨利\\n\\n**全年累計**\\n- 銷售收入\\n- 銷售成本\\n- 銷售毛利\\n- 營業利益\\n- 稅前淨利\\n- 年度預算\\n- 達成率\\n\\n表格中的商品類別包含：\\n- 等等(造紙業)\\n- 久違(紙)\\n- 花蓮(紙)\\n- 台紙(紙)\\n- 智慧(紙)\\n- P板(紙)\\n- 昆山紙業(CNY)\\n- 昆林紙業(CNY)\\n- 纖維製品(CNY)\\n- 合紙(紙)\\n\\n您可以根據您的需要，查詢您感興趣的指標。\\n'}, hash='ad2ebd278b79164688a158927403e05e1457a74a7b8eeefdc68ce35e2bd5d4a8')}, text='這張圖片顯示了一份華紙營運績效分析月報，包含了各事業部的相關分析指標。表格中顯示了以下指標：\\n\\n**本月**\\n- 銷售收入\\n- 銷售成本\\n- 銷售毛利\\n- 營業利益\\n- 稅前淨利\\n\\n**全年累計**\\n- 銷售收入\\n- 銷售成本\\n- 銷售毛利\\n- 營業利益\\n- 稅前淨利\\n- 年度預算\\n- 達成率\\n\\n表格中的商品類別包含：\\n- 等等(造紙業)\\n- 久違(紙)\\n- 花蓮(紙)\\n- 台紙(紙)\\n- 智慧(紙)\\n- P板(紙)\\n- 昆山紙業(CNY)\\n- 昆林紙業(CNY)\\n- 纖維製品(CNY)\\n- 合紙(紙)\\n\\n您可以根據您的需要，查詢您感興趣的指標。', mimetype='text/plain', start_char_idx=0, end_char_idx=276, text_template='{metadata_str}\\n\\n{content}', metadata_template='{key}: {value}', metadata_seperator='\\n'), score=0.24924467637660686),\n",
       " NodeWithScore(node=TextNode(id_='7fb848b8-276e-464f-ba5a-0c70e1e50ea3', embedding=None, metadata={'dashboard_name': '投控經營分析', 'report_name': '華紙-營運績效分析月報', 'page_name': '號機直接法損益', 'pic_name': '號機直接法損益-完整畫面.jpg', 'description': '這張圖片包含了一份營運績效分析月報，其中包含以下指標：\\n\\n**成本**:\\n* 銷貨成本\\n* 原物料成本\\n* 燃料\\n* 其他成本\\n\\n**銷售**:\\n* 銷貨收入\\n* 營業成本\\n* 營業毛利\\n* 營業費用\\n\\n**費用**:\\n* 製造費用\\n* 銷售費用\\n* 管理費用\\n\\n**淨利**:\\n* 稅前淨利\\n* 稅後淨利\\n\\n**其他**:\\n* 損益表\\n* 損益\\n* 銷售額\\n* 銷貨量\\n* 存貨\\n* 應收帳款\\n* 應付帳款\\n* 固定資產\\n* 流動資產\\n* 負債\\n* 股東權益\\n\\n這些指標可以幫助使用者了解公司在特定時期的財務狀況和營運績效。\\n'}, excluded_embed_metadata_keys=[], excluded_llm_metadata_keys=[], relationships={<NodeRelationship.SOURCE: '1'>: RelatedNodeInfo(node_id='bfd391ed-4776-4c36-83b4-52d4fccf3b79', node_type=<ObjectType.DOCUMENT: '4'>, metadata={'dashboard_name': '投控經營分析', 'report_name': '華紙-營運績效分析月報', 'page_name': '號機直接法損益', 'pic_name': '號機直接法損益-完整畫面.jpg', 'description': '這張圖片包含了一份營運績效分析月報，其中包含以下指標：\\n\\n**成本**:\\n* 銷貨成本\\n* 原物料成本\\n* 燃料\\n* 其他成本\\n\\n**銷售**:\\n* 銷貨收入\\n* 營業成本\\n* 營業毛利\\n* 營業費用\\n\\n**費用**:\\n* 製造費用\\n* 銷售費用\\n* 管理費用\\n\\n**淨利**:\\n* 稅前淨利\\n* 稅後淨利\\n\\n**其他**:\\n* 損益表\\n* 損益\\n* 銷售額\\n* 銷貨量\\n* 存貨\\n* 應收帳款\\n* 應付帳款\\n* 固定資產\\n* 流動資產\\n* 負債\\n* 股東權益\\n\\n這些指標可以幫助使用者了解公司在特定時期的財務狀況和營運績效。\\n'}, hash='1e37f1abefa9203817cf8d54b46537cbb8d1abe614c7633f0dc56e1f6b5ce979')}, text='這張圖片包含了一份營運績效分析月報，其中包含以下指標：\\n\\n**成本**:\\n* 銷貨成本\\n* 原物料成本\\n* 燃料\\n* 其他成本\\n\\n**銷售**:\\n* 銷貨收入\\n* 營業成本\\n* 營業毛利\\n* 營業費用\\n\\n**費用**:\\n* 製造費用\\n* 銷售費用\\n* 管理費用\\n\\n**淨利**:\\n* 稅前淨利\\n* 稅後淨利\\n\\n**其他**:\\n* 損益表\\n* 損益\\n* 銷售額\\n* 銷貨量\\n* 存貨\\n* 應收帳款\\n* 應付帳款\\n* 固定資產\\n* 流動資產\\n* 負債\\n* 股東權益\\n\\n這些指標可以幫助使用者了解公司在特定時期的財務狀況和營運績效。', mimetype='text/plain', start_char_idx=0, end_char_idx=263, text_template='{metadata_str}\\n\\n{content}', metadata_template='{key}: {value}', metadata_seperator='\\n'), score=0.24464541909115045),\n",
       " NodeWithScore(node=TextNode(id_='d519217c-ff23-4b57-abc5-520f0f617718', embedding=None, metadata={'dashboard_name': '投控經營分析', 'report_name': '華紙-營運績效分析月報', 'page_name': '工廠層', 'pic_name': '工廠層-紙機損益.jpg', 'description': '這張表包含工廠層的營運績效分析月報數據，指標包括：\\n\\n* **年度**\\n* **銷售量 (噸)**\\n* **銷售金額 (仟元)**\\n* **營業毛利 (仟元)**\\n* **營業利益 (仟元)**\\n* **淨利率 (%)**\\n\\n請確認您是否需要查看其他資訊，比如成本、銷售價格、生產量等。\\n'}, excluded_embed_metadata_keys=[], excluded_llm_metadata_keys=[], relationships={<NodeRelationship.SOURCE: '1'>: RelatedNodeInfo(node_id='8e5114c1-3312-4864-8d1b-715807fdedf6', node_type=<ObjectType.DOCUMENT: '4'>, metadata={'dashboard_name': '投控經營分析', 'report_name': '華紙-營運績效分析月報', 'page_name': '工廠層', 'pic_name': '工廠層-紙機損益.jpg', 'description': '這張表包含工廠層的營運績效分析月報數據，指標包括：\\n\\n* **年度**\\n* **銷售量 (噸)**\\n* **銷售金額 (仟元)**\\n* **營業毛利 (仟元)**\\n* **營業利益 (仟元)**\\n* **淨利率 (%)**\\n\\n請確認您是否需要查看其他資訊，比如成本、銷售價格、生產量等。\\n'}, hash='7cd178ab2145cdaac968bd513d5a1467f349d1ad0eb100c0168971783c938fc4')}, text='這張表包含工廠層的營運績效分析月報數據，指標包括：\\n\\n* **年度**\\n* **銷售量 (噸)**\\n* **銷售金額 (仟元)**\\n* **營業毛利 (仟元)**\\n* **營業利益 (仟元)**\\n* **淨利率 (%)**\\n\\n請確認您是否需要查看其他資訊，比如成本、銷售價格、生產量等。', mimetype='text/plain', start_char_idx=0, end_char_idx=143, text_template='{metadata_str}\\n\\n{content}', metadata_template='{key}: {value}', metadata_seperator='\\n'), score=0.2429989195692779)]"
      ]
     },
     "execution_count": 36,
     "metadata": {},
     "output_type": "execute_result"
    }
   ],
   "source": [
    "response"
   ]
  }
 ],
 "metadata": {
  "kernelspec": {
   "display_name": "sean_project",
   "language": "python",
   "name": "python3"
  },
  "language_info": {
   "codemirror_mode": {
    "name": "ipython",
    "version": 3
   },
   "file_extension": ".py",
   "mimetype": "text/x-python",
   "name": "python",
   "nbconvert_exporter": "python",
   "pygments_lexer": "ipython3",
   "version": "3.10.14"
  }
 },
 "nbformat": 4,
 "nbformat_minor": 2
}
