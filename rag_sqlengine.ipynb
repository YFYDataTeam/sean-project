{
 "cells": [
  {
   "cell_type": "code",
   "execution_count": 1,
   "metadata": {},
   "outputs": [
    {
     "name": "stderr",
     "output_type": "stream",
     "text": [
      "c:\\Users\\sean.chang\\AppData\\Local\\anaconda3\\envs\\sean_project\\lib\\site-packages\\tqdm\\auto.py:21: TqdmWarning: IProgress not found. Please update jupyter and ipywidgets. See https://ipywidgets.readthedocs.io/en/stable/user_install.html\n",
      "  from .autonotebook import tqdm as notebook_tqdm\n"
     ]
    }
   ],
   "source": [
    "import os\n",
    "from src.utils import read_config, MySQLAgent\n",
    "import openai\n",
    "from llama_index.llms.openai import OpenAI\n",
    "\n",
    "from llama_index.core import SQLDatabase, Settings\n",
    "from llama_index.core.query_engine import NLSQLTableQueryEngine, RouterQueryEngine\n",
    "from llama_index.embeddings.huggingface import HuggingFaceEmbedding\n",
    "from llama_index.core.tools import QueryEngineTool\n",
    "from llama_index.core.selectors import LLMSingleSelector\n",
    "\n",
    "from sqlalchemy import (\n",
    "    create_engine,\n",
    "    MetaData,\n",
    "    Table,\n",
    "    Column,\n",
    "    String,\n",
    "    Integer,\n",
    "    select,\n",
    "    column\n",
    ")"
   ]
  },
  {
   "cell_type": "code",
   "execution_count": 2,
   "metadata": {},
   "outputs": [],
   "source": [
    "info_path = '.env/info.json'\n",
    "info = read_config(info_path)\n",
    "\n",
    "O_KEY = info['okey']\n",
    "os.environ[\"OPENAI_API_KEY\"] = O_KEY\n",
    "openai.api_key = os.environ[\"OPENAI_API_KEY\"]\n",
    "\n",
    "conn_info = info['VM1_news_mysql_conn_info']\n",
    "sql_agent = MySQLAgent(conn_info)"
   ]
  },
  {
   "cell_type": "code",
   "execution_count": 3,
   "metadata": {},
   "outputs": [],
   "source": [
    "llm =  OpenAI(temperature=0.1, model=\"gpt-4o-mini\")"
   ]
  },
  {
   "cell_type": "code",
   "execution_count": 4,
   "metadata": {},
   "outputs": [],
   "source": [
    "model_name = \"sentence-transformers/distiluse-base-multilingual-cased-v1\"\n",
    "embed_model = HuggingFaceEmbedding(model_name=model_name)"
   ]
  },
  {
   "cell_type": "code",
   "execution_count": 5,
   "metadata": {},
   "outputs": [],
   "source": [
    "user = conn_info['user']\n",
    "pw = conn_info['pw']\n",
    "host = conn_info['host']\n",
    "port = conn_info['port']\n",
    "database = conn_info['database']\n",
    "connection_string = f\"mysql+pymysql://{user}:{pw}@{host}:{port}/{database}?charset=utf8mb4\"\n",
    "engine = create_engine(connection_string)"
   ]
  },
  {
   "cell_type": "code",
   "execution_count": 6,
   "metadata": {},
   "outputs": [],
   "source": [
    "tables = ['cdd_result']\n",
    "\n",
    "sql_database = SQLDatabase(engine, include_tables=tables)\n",
    "\n",
    "Settings.llm = llm\n",
    "Settings.embed_model = embed_model\n",
    "sql_query_engine = NLSQLTableQueryEngine(sql_database=sql_database, tables=tables)"
   ]
  },
  {
   "cell_type": "code",
   "execution_count": 7,
   "metadata": {},
   "outputs": [],
   "source": [
    "prompt_template_str = \"\"\"\n",
    "###情況判別\n",
    "如果Query中出現詢問綠燈紅燈黃燈的話則搜尋light_status這個欄位\n",
    "\"\"\""
   ]
  },
  {
   "cell_type": "code",
   "execution_count": 8,
   "metadata": {},
   "outputs": [],
   "source": [
    "sql_tool = QueryEngineTool.from_defaults(\n",
    "    query_engine=sql_query_engine,\n",
    "    description=('當User詢問Cdd result的時候搜尋這個Table')\n",
    ")"
   ]
  },
  {
   "cell_type": "code",
   "execution_count": 9,
   "metadata": {},
   "outputs": [],
   "source": [
    "query_engine =  RouterQueryEngine(\n",
    "    selector=LLMSingleSelector.from_defaults(prompt_template_str=prompt_template_str),\n",
    "    query_engine_tools=[sql_tool]\n",
    ")"
   ]
  },
  {
   "cell_type": "code",
   "execution_count": 10,
   "metadata": {},
   "outputs": [
    {
     "data": {
      "text/plain": [
       "'旭全發企業有限公司的light_status為green的資料共有126筆。'"
      ]
     },
     "execution_count": 10,
     "metadata": {},
     "output_type": "execute_result"
    }
   ],
   "source": [
    "query = \"\"\"旭全發企業有限公司的有幾筆light_status是green的資料\"\"\"\n",
    "response = query_engine.query(query)\n",
    "response.response"
   ]
  },
  {
   "cell_type": "code",
   "execution_count": 14,
   "metadata": {},
   "outputs": [
    {
     "data": {
      "text/plain": [
       "\"SELECT COUNT(*) AS green_count FROM cdd_result WHERE company_name = '旭全發企業有限公司' AND light_status = 'green'\""
      ]
     },
     "execution_count": 14,
     "metadata": {},
     "output_type": "execute_result"
    }
   ],
   "source": [
    "metadata = response.metadata\n",
    "first_key = next(iter(metadata))\n",
    "metadata[first_key]['sql_query']"
   ]
  }
 ],
 "metadata": {
  "kernelspec": {
   "display_name": "sean_project",
   "language": "python",
   "name": "python3"
  },
  "language_info": {
   "codemirror_mode": {
    "name": "ipython",
    "version": 3
   },
   "file_extension": ".py",
   "mimetype": "text/x-python",
   "name": "python",
   "nbconvert_exporter": "python",
   "pygments_lexer": "ipython3",
   "version": "3.10.14"
  }
 },
 "nbformat": 4,
 "nbformat_minor": 2
}
